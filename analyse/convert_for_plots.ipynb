{
 "cells": [
  {
   "cell_type": "code",
   "execution_count": 1,
   "metadata": {
    "collapsed": true
   },
   "outputs": [],
   "source": [
    "import pandas as pd\n",
    "from utils.configuration import Configuration\n",
    "\n",
    "from pandas.io.parsers import read_csv\n",
    "config = Configuration()\n",
    "\n",
    "results = read_csv('../' + config.analyse_dir + '/atm_atm.csv')\n",
    "results['config'] = results['config'].apply(lambda x: x.replace('edit_distance', 'es'))\n",
    "results['config'] = results['config'].apply(lambda x: x.replace('jaccard', 'js'))\n",
    "results['training_set'] = results['config'].apply(lambda x: x.split('_')[1])\n",
    "results['word_embedding'] = results['config'].apply(lambda x: x.split('_')[0])\n",
    "results['descriptors'] = results['config'].apply(lambda x: x.split('_')[3])\n",
    "results['algorithm'] = results['config'].apply(lambda x: x.split('_')[2])\n",
    "results.rename(columns={'f1_score': 'value'}, inplace=True)\n",
    "results = results[['training_set','word_embedding','descriptors','algorithm', 'value']]\n",
    "results['descriptors'] = results['descriptors'].apply(lambda x: x.replace('craftdroid', 'craftdroid_d'))\n",
    "results['descriptors'] = results['descriptors'].apply(lambda x: x.replace('atm', 'atm_d'))\n",
    "results['algorithm'] = results['algorithm'].apply(lambda x: x.replace('atm', 'atm_a'))\n",
    "results['algorithm'] = results['algorithm'].apply(lambda x: x.replace('craftdroid', 'craftdroid_a'))\n",
    "results['algorithm'] = results['algorithm'].apply(lambda x: x.replace('custom', 'semfinder_a'))\n",
    "results['algorithm'] = results['algorithm'].apply(lambda x: x.replace('adaptdroid', 'adaptdroid_a'))\n",
    "results['training_set'] = results['training_set'].apply(lambda x: x.replace('android', 'manuals'))\n",
    "results.to_csv('../' + config.analyse_dir + '/converted.csv', index=False)"
   ]
  }
 ],
 "metadata": {
  "kernelspec": {
   "display_name": "Python 3",
   "language": "python",
   "name": "python3"
  },
  "language_info": {
   "codemirror_mode": {
    "name": "ipython",
    "version": 2
   },
   "file_extension": ".py",
   "mimetype": "text/x-python",
   "name": "python",
   "nbconvert_exporter": "python",
   "pygments_lexer": "ipython2",
   "version": "2.7.6"
  }
 },
 "nbformat": 4,
 "nbformat_minor": 0
}