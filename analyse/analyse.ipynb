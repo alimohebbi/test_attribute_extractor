{
 "cells": [
  {
   "cell_type": "code",
   "execution_count": 1,
   "metadata": {},
   "outputs": [],
   "source": [
    "import glob\n",
    "import os\n",
    "import sys\n",
    "sys.path.append(\"..\")\n",
    "import pandas as pd\n",
    "from pandas.io.parsers import read_csv\n",
    "\n",
    "from utils.configuration import Configuration\n",
    "\n",
    "config = Configuration()\n",
    "def add_file_name(csv, path):\n",
    "    file_name = os.path.basename(path).split('.')[0]\n",
    "    csv['config'] = file_name.split('result_')[1]\n",
    "    return csv"
   ]
  },
  {
   "cell_type": "code",
   "execution_count": 2,
   "metadata": {
    "collapsed": false,
    "jupyter": {
     "outputs_hidden": false
    },
    "pycharm": {
     "name": "#%%\n"
    }
   },
   "outputs": [],
   "source": [
    "def read_results():\n",
    "    desc_map_files = []\n",
    "    for path in glob.glob('../'+config.results_dir + \"/*.csv\"):\n",
    "        csv = read_csv(path, encoding='latin-1')\n",
    "        csv = add_file_name(csv, path)\n",
    "        desc_map_files.append(csv)\n",
    "    results= pd.concat(desc_map_files, axis=0, ignore_index=True)\n",
    "    results = results[~results['target_app'].str.contains('a6|a7|a8')]\n",
    "    results.drop('target_app', inplace=True, axis=1)\n",
    "    results.drop('src_app', inplace=True, axis=1)\n",
    "    results.fillna(0, inplace=True)\n",
    "    return results"
   ]
  },
  {
   "cell_type": "code",
   "execution_count": 3,
   "metadata": {
    "collapsed": false,
    "jupyter": {
     "outputs_hidden": false
    },
    "pycharm": {
     "name": "#%%\n"
    }
   },
   "outputs": [],
   "source": [
    "def config_average_performance(results):\n",
    "    return results.groupby('config').mean().sort_values(by = ['accuracy'], ascending=False)"
   ]
  },
  {
   "cell_type": "code",
   "execution_count": 4,
   "metadata": {
    "collapsed": false,
    "jupyter": {
     "outputs_hidden": false
    },
    "pycharm": {
     "name": "#%%\n"
    }
   },
   "outputs": [],
   "source": [
    "results = read_results()\n",
    "agg_results = config_average_performance(results).sort_values(by = ['f1_score'], ascending=False)"
   ]
  },
  {
   "cell_type": "code",
   "execution_count": 5,
   "metadata": {},
   "outputs": [
    {
     "data": {
      "text/plain": "                                             tp        tn        fp        fn  \\\nconfig                                                                          \nuse_standard_atm_atm                   2.775862  0.551724  1.379310  0.862069   \nwm_blogs_custom_atm                    2.557692  0.596154  1.500000  1.038462   \njaccard_empty_custom_atm               2.568627  0.549020  1.333333  1.058824   \nnnlm_standard_custom_atm               2.603774  0.528302  1.452830  1.056604   \nuse_standard_custom_craftdroid         2.553571  0.571429  1.500000  1.071429   \nuse_standard_custom_atm                2.584906  0.603774  1.490566  1.075472   \njaccard_empty_craftdroid_atm           2.470588  0.607843  1.450980  1.137255   \nwm_standard_custom_atm                 2.428571  0.589286  1.607143  1.232143   \nwm_googleplay_atm_atm                  2.338983  0.559322  1.525424  1.288136   \nwm_googleplay_custom_atm               2.396552  0.568966  1.517241  1.241379   \nwm_standard_custom_craftdroid          2.418182  0.563636  1.654545  1.218182   \nwm_blogs_custom_union                  2.385965  0.561404  1.561404  1.263158   \njaccard_empty_custom_intersection      2.365385  0.538462  1.500000  1.250000   \njaccard_empty_craftdroid_intersection  2.339623  0.584906  1.509434  1.245283   \njaccard_empty_atm_intersection         2.462963  0.574074  1.611111  1.148148   \nwm_blogs_atm_atm                       2.339286  0.589286  1.660714  1.267857   \nuse_standard_custom_union              2.333333  0.611111  1.703704  1.314815   \nwm_googleplay_custom_intersection      2.350877  0.561404  1.508772  1.298246   \nwm_standard_atm_atm                    2.250000  0.653846  1.730769  1.250000   \nwm_standard_custom_union               2.347826  0.565217  1.717391  1.304348   \nwm_android_custom_craftdroid           2.288462  0.615385  1.634615  1.346154   \nwm_android_custom_union                2.300000  0.620000  1.640000  1.380000   \nwm_googleplay_custom_craftdroid        2.148148  0.555556  1.574074  1.425926   \nwm_googleplay_custom_union             2.142857  0.553571  1.660714  1.446429   \nwm_android_custom_atm                  2.203704  0.611111  1.796296  1.425926   \n\n                                         effort  accuracy  precision  \\\nconfig                                                                 \nuse_standard_atm_atm                   1.896552  0.720178   0.733025   \nwm_blogs_custom_atm                    2.019231  0.685517   0.687912   \njaccard_empty_custom_atm               1.960784  0.672269   0.677148   \nnnlm_standard_custom_atm               2.037736  0.654790   0.687107   \nuse_standard_custom_craftdroid         1.982143  0.655082   0.683220   \nuse_standard_custom_atm                2.150943  0.649166   0.693239   \njaccard_empty_craftdroid_atm           1.921569  0.642392   0.670822   \nwm_standard_custom_atm                 2.214286  0.626978   0.647336   \nwm_googleplay_atm_atm                  2.135593  0.639969   0.660391   \nwm_googleplay_custom_atm               2.051724  0.633883   0.643883   \nwm_standard_custom_craftdroid          2.145455  0.620064   0.635404   \nwm_blogs_custom_union                  2.175439  0.614199   0.650627   \njaccard_empty_custom_intersection      2.134615  0.621064   0.633196   \njaccard_empty_craftdroid_intersection  2.056604  0.614107   0.642677   \njaccard_empty_atm_intersection         2.111111  0.608896   0.631481   \nwm_blogs_atm_atm                       2.267857  0.633118   0.635998   \nuse_standard_custom_union              2.203704  0.618285   0.638470   \nwm_googleplay_custom_intersection      2.122807  0.621366   0.635422   \nwm_standard_atm_atm                    2.250000  0.620275   0.620902   \nwm_standard_custom_union               2.347826  0.589621   0.620531   \nwm_android_custom_craftdroid           2.250000  0.608555   0.606456   \nwm_android_custom_union                2.200000  0.602990   0.612429   \nwm_googleplay_custom_craftdroid        2.074074  0.609200   0.613272   \nwm_googleplay_custom_union             2.142857  0.591445   0.602976   \nwm_android_custom_atm                  2.425926  0.577776   0.588266   \n\n                                         recall  f1_score  reduction  \nconfig                                                                \nuse_standard_atm_atm                   0.787356  0.750660   0.601724  \nwm_blogs_custom_atm                    0.738782  0.704680   0.549359  \njaccard_empty_custom_atm               0.726797  0.695457   0.570261  \nnnlm_standard_custom_atm               0.726101  0.693993   0.554403  \nuse_standard_custom_craftdroid         0.718750  0.691531   0.550496  \nuse_standard_custom_atm                0.719182  0.689305   0.517715  \njaccard_empty_craftdroid_atm           0.702288  0.673530   0.564379  \nwm_standard_custom_atm                 0.684524  0.654197   0.508036  \nwm_googleplay_atm_atm                  0.670904  0.654129   0.530791  \nwm_googleplay_custom_atm               0.675287  0.652921   0.537548  \nwm_standard_custom_craftdroid          0.683939  0.652816   0.527172  \nwm_blogs_custom_union                  0.676608  0.652272   0.516277  \njaccard_empty_custom_intersection      0.682372  0.651534   0.530449  \njaccard_empty_craftdroid_intersection  0.674214  0.650285   0.537107  \njaccard_empty_atm_intersection         0.686420  0.649814   0.512654  \nwm_blogs_atm_atm                       0.675595  0.646936   0.498016  \nuse_standard_custom_union              0.667593  0.644891   0.516255  \nwm_googleplay_custom_intersection      0.663743  0.643553   0.528947  \nwm_standard_atm_atm                    0.674038  0.640146   0.501603  \nwm_standard_custom_union               0.650725  0.627129   0.473068  \nwm_android_custom_craftdroid           0.659295  0.624777   0.496047  \nwm_android_custom_union                0.641667  0.621526   0.502889  \nwm_googleplay_custom_craftdroid        0.637346  0.620664   0.536934  \nwm_googleplay_custom_union             0.628571  0.610700   0.519246  \nwm_android_custom_atm                  0.634877  0.602397   0.444033  ",
      "text/html": "<div>\n<style scoped>\n    .dataframe tbody tr th:only-of-type {\n        vertical-align: middle;\n    }\n\n    .dataframe tbody tr th {\n        vertical-align: top;\n    }\n\n    .dataframe thead th {\n        text-align: right;\n    }\n</style>\n<table border=\"1\" class=\"dataframe\">\n  <thead>\n    <tr style=\"text-align: right;\">\n      <th></th>\n      <th>tp</th>\n      <th>tn</th>\n      <th>fp</th>\n      <th>fn</th>\n      <th>effort</th>\n      <th>accuracy</th>\n      <th>precision</th>\n      <th>recall</th>\n      <th>f1_score</th>\n      <th>reduction</th>\n    </tr>\n    <tr>\n      <th>config</th>\n      <th></th>\n      <th></th>\n      <th></th>\n      <th></th>\n      <th></th>\n      <th></th>\n      <th></th>\n      <th></th>\n      <th></th>\n      <th></th>\n    </tr>\n  </thead>\n  <tbody>\n    <tr>\n      <th>use_standard_atm_atm</th>\n      <td>2.775862</td>\n      <td>0.551724</td>\n      <td>1.379310</td>\n      <td>0.862069</td>\n      <td>1.896552</td>\n      <td>0.720178</td>\n      <td>0.733025</td>\n      <td>0.787356</td>\n      <td>0.750660</td>\n      <td>0.601724</td>\n    </tr>\n    <tr>\n      <th>wm_blogs_custom_atm</th>\n      <td>2.557692</td>\n      <td>0.596154</td>\n      <td>1.500000</td>\n      <td>1.038462</td>\n      <td>2.019231</td>\n      <td>0.685517</td>\n      <td>0.687912</td>\n      <td>0.738782</td>\n      <td>0.704680</td>\n      <td>0.549359</td>\n    </tr>\n    <tr>\n      <th>jaccard_empty_custom_atm</th>\n      <td>2.568627</td>\n      <td>0.549020</td>\n      <td>1.333333</td>\n      <td>1.058824</td>\n      <td>1.960784</td>\n      <td>0.672269</td>\n      <td>0.677148</td>\n      <td>0.726797</td>\n      <td>0.695457</td>\n      <td>0.570261</td>\n    </tr>\n    <tr>\n      <th>nnlm_standard_custom_atm</th>\n      <td>2.603774</td>\n      <td>0.528302</td>\n      <td>1.452830</td>\n      <td>1.056604</td>\n      <td>2.037736</td>\n      <td>0.654790</td>\n      <td>0.687107</td>\n      <td>0.726101</td>\n      <td>0.693993</td>\n      <td>0.554403</td>\n    </tr>\n    <tr>\n      <th>use_standard_custom_craftdroid</th>\n      <td>2.553571</td>\n      <td>0.571429</td>\n      <td>1.500000</td>\n      <td>1.071429</td>\n      <td>1.982143</td>\n      <td>0.655082</td>\n      <td>0.683220</td>\n      <td>0.718750</td>\n      <td>0.691531</td>\n      <td>0.550496</td>\n    </tr>\n    <tr>\n      <th>use_standard_custom_atm</th>\n      <td>2.584906</td>\n      <td>0.603774</td>\n      <td>1.490566</td>\n      <td>1.075472</td>\n      <td>2.150943</td>\n      <td>0.649166</td>\n      <td>0.693239</td>\n      <td>0.719182</td>\n      <td>0.689305</td>\n      <td>0.517715</td>\n    </tr>\n    <tr>\n      <th>jaccard_empty_craftdroid_atm</th>\n      <td>2.470588</td>\n      <td>0.607843</td>\n      <td>1.450980</td>\n      <td>1.137255</td>\n      <td>1.921569</td>\n      <td>0.642392</td>\n      <td>0.670822</td>\n      <td>0.702288</td>\n      <td>0.673530</td>\n      <td>0.564379</td>\n    </tr>\n    <tr>\n      <th>wm_standard_custom_atm</th>\n      <td>2.428571</td>\n      <td>0.589286</td>\n      <td>1.607143</td>\n      <td>1.232143</td>\n      <td>2.214286</td>\n      <td>0.626978</td>\n      <td>0.647336</td>\n      <td>0.684524</td>\n      <td>0.654197</td>\n      <td>0.508036</td>\n    </tr>\n    <tr>\n      <th>wm_googleplay_atm_atm</th>\n      <td>2.338983</td>\n      <td>0.559322</td>\n      <td>1.525424</td>\n      <td>1.288136</td>\n      <td>2.135593</td>\n      <td>0.639969</td>\n      <td>0.660391</td>\n      <td>0.670904</td>\n      <td>0.654129</td>\n      <td>0.530791</td>\n    </tr>\n    <tr>\n      <th>wm_googleplay_custom_atm</th>\n      <td>2.396552</td>\n      <td>0.568966</td>\n      <td>1.517241</td>\n      <td>1.241379</td>\n      <td>2.051724</td>\n      <td>0.633883</td>\n      <td>0.643883</td>\n      <td>0.675287</td>\n      <td>0.652921</td>\n      <td>0.537548</td>\n    </tr>\n    <tr>\n      <th>wm_standard_custom_craftdroid</th>\n      <td>2.418182</td>\n      <td>0.563636</td>\n      <td>1.654545</td>\n      <td>1.218182</td>\n      <td>2.145455</td>\n      <td>0.620064</td>\n      <td>0.635404</td>\n      <td>0.683939</td>\n      <td>0.652816</td>\n      <td>0.527172</td>\n    </tr>\n    <tr>\n      <th>wm_blogs_custom_union</th>\n      <td>2.385965</td>\n      <td>0.561404</td>\n      <td>1.561404</td>\n      <td>1.263158</td>\n      <td>2.175439</td>\n      <td>0.614199</td>\n      <td>0.650627</td>\n      <td>0.676608</td>\n      <td>0.652272</td>\n      <td>0.516277</td>\n    </tr>\n    <tr>\n      <th>jaccard_empty_custom_intersection</th>\n      <td>2.365385</td>\n      <td>0.538462</td>\n      <td>1.500000</td>\n      <td>1.250000</td>\n      <td>2.134615</td>\n      <td>0.621064</td>\n      <td>0.633196</td>\n      <td>0.682372</td>\n      <td>0.651534</td>\n      <td>0.530449</td>\n    </tr>\n    <tr>\n      <th>jaccard_empty_craftdroid_intersection</th>\n      <td>2.339623</td>\n      <td>0.584906</td>\n      <td>1.509434</td>\n      <td>1.245283</td>\n      <td>2.056604</td>\n      <td>0.614107</td>\n      <td>0.642677</td>\n      <td>0.674214</td>\n      <td>0.650285</td>\n      <td>0.537107</td>\n    </tr>\n    <tr>\n      <th>jaccard_empty_atm_intersection</th>\n      <td>2.462963</td>\n      <td>0.574074</td>\n      <td>1.611111</td>\n      <td>1.148148</td>\n      <td>2.111111</td>\n      <td>0.608896</td>\n      <td>0.631481</td>\n      <td>0.686420</td>\n      <td>0.649814</td>\n      <td>0.512654</td>\n    </tr>\n    <tr>\n      <th>wm_blogs_atm_atm</th>\n      <td>2.339286</td>\n      <td>0.589286</td>\n      <td>1.660714</td>\n      <td>1.267857</td>\n      <td>2.267857</td>\n      <td>0.633118</td>\n      <td>0.635998</td>\n      <td>0.675595</td>\n      <td>0.646936</td>\n      <td>0.498016</td>\n    </tr>\n    <tr>\n      <th>use_standard_custom_union</th>\n      <td>2.333333</td>\n      <td>0.611111</td>\n      <td>1.703704</td>\n      <td>1.314815</td>\n      <td>2.203704</td>\n      <td>0.618285</td>\n      <td>0.638470</td>\n      <td>0.667593</td>\n      <td>0.644891</td>\n      <td>0.516255</td>\n    </tr>\n    <tr>\n      <th>wm_googleplay_custom_intersection</th>\n      <td>2.350877</td>\n      <td>0.561404</td>\n      <td>1.508772</td>\n      <td>1.298246</td>\n      <td>2.122807</td>\n      <td>0.621366</td>\n      <td>0.635422</td>\n      <td>0.663743</td>\n      <td>0.643553</td>\n      <td>0.528947</td>\n    </tr>\n    <tr>\n      <th>wm_standard_atm_atm</th>\n      <td>2.250000</td>\n      <td>0.653846</td>\n      <td>1.730769</td>\n      <td>1.250000</td>\n      <td>2.250000</td>\n      <td>0.620275</td>\n      <td>0.620902</td>\n      <td>0.674038</td>\n      <td>0.640146</td>\n      <td>0.501603</td>\n    </tr>\n    <tr>\n      <th>wm_standard_custom_union</th>\n      <td>2.347826</td>\n      <td>0.565217</td>\n      <td>1.717391</td>\n      <td>1.304348</td>\n      <td>2.347826</td>\n      <td>0.589621</td>\n      <td>0.620531</td>\n      <td>0.650725</td>\n      <td>0.627129</td>\n      <td>0.473068</td>\n    </tr>\n    <tr>\n      <th>wm_android_custom_craftdroid</th>\n      <td>2.288462</td>\n      <td>0.615385</td>\n      <td>1.634615</td>\n      <td>1.346154</td>\n      <td>2.250000</td>\n      <td>0.608555</td>\n      <td>0.606456</td>\n      <td>0.659295</td>\n      <td>0.624777</td>\n      <td>0.496047</td>\n    </tr>\n    <tr>\n      <th>wm_android_custom_union</th>\n      <td>2.300000</td>\n      <td>0.620000</td>\n      <td>1.640000</td>\n      <td>1.380000</td>\n      <td>2.200000</td>\n      <td>0.602990</td>\n      <td>0.612429</td>\n      <td>0.641667</td>\n      <td>0.621526</td>\n      <td>0.502889</td>\n    </tr>\n    <tr>\n      <th>wm_googleplay_custom_craftdroid</th>\n      <td>2.148148</td>\n      <td>0.555556</td>\n      <td>1.574074</td>\n      <td>1.425926</td>\n      <td>2.074074</td>\n      <td>0.609200</td>\n      <td>0.613272</td>\n      <td>0.637346</td>\n      <td>0.620664</td>\n      <td>0.536934</td>\n    </tr>\n    <tr>\n      <th>wm_googleplay_custom_union</th>\n      <td>2.142857</td>\n      <td>0.553571</td>\n      <td>1.660714</td>\n      <td>1.446429</td>\n      <td>2.142857</td>\n      <td>0.591445</td>\n      <td>0.602976</td>\n      <td>0.628571</td>\n      <td>0.610700</td>\n      <td>0.519246</td>\n    </tr>\n    <tr>\n      <th>wm_android_custom_atm</th>\n      <td>2.203704</td>\n      <td>0.611111</td>\n      <td>1.796296</td>\n      <td>1.425926</td>\n      <td>2.425926</td>\n      <td>0.577776</td>\n      <td>0.588266</td>\n      <td>0.634877</td>\n      <td>0.602397</td>\n      <td>0.444033</td>\n    </tr>\n  </tbody>\n</table>\n</div>"
     },
     "execution_count": 5,
     "metadata": {},
     "output_type": "execute_result"
    }
   ],
   "source": [
    "# config_stat = read_csv('../'+config.analyse_dir + '/configs_status.csv')\n",
    "# config_stat.set_index('config', inplace=True)\n",
    "# final_result = config_stat.join(agg_results)\n",
    "final_result = agg_results\n",
    "final_result"
   ]
  },
  {
   "cell_type": "code",
   "execution_count": 6,
   "outputs": [],
   "source": [
    "configs_mrr = read_csv('../' + config.analyse_dir + '/mrr.csv')\n",
    "configs_mrr['config'] = configs_mrr[['word_embedding', 'training_set', 'algorithm','descriptors']].agg('_'.join, axis=1)\n",
    "configs_mrr.drop(columns=['descriptors','word_embedding', 'training_set', 'algorithm'], inplace=True)\n",
    "configs_mrr.set_index('config', inplace=True)\n",
    "final_result = final_result.join(configs_mrr).sort_values(by = ['f1_score'], ascending=False)\n",
    "# configs_mrr.loc[configs_mrr['config'] == 'glove_android_atm_union']\n",
    "final_result.to_csv('../' + config.analyse_dir + '/final_results.csv')"
   ],
   "metadata": {
    "collapsed": false,
    "pycharm": {
     "name": "#%%\n"
    }
   }
  }
 ],
 "metadata": {
  "kernelspec": {
   "display_name": "Python 3",
   "language": "python",
   "name": "python3"
  },
  "language_info": {
   "codemirror_mode": {
    "name": "ipython",
    "version": 3
   },
   "file_extension": ".py",
   "mimetype": "text/x-python",
   "name": "python",
   "nbconvert_exporter": "python",
   "pygments_lexer": "ipython3",
   "version": "3.7.3"
  }
 },
 "nbformat": 4,
 "nbformat_minor": 4
}