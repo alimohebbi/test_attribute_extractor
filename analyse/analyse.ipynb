{
 "cells": [
  {
   "cell_type": "code",
   "execution_count": 1,
   "metadata": {},
   "outputs": [],
   "source": [
    "import glob\n",
    "import os\n",
    "import sys\n",
    "sys.path.append(\"..\")\n",
    "import pandas as pd\n",
    "from pandas.io.parsers import read_csv\n",
    "\n",
    "from utils.configuration import Configuration\n",
    "\n",
    "config = Configuration()\n",
    "def add_file_name(csv, path):\n",
    "    file_name = os.path.basename(path).split('.')[0]\n",
    "    csv['config'] = file_name.split('result_')[1]\n",
    "    return csv"
   ]
  },
  {
   "cell_type": "code",
   "execution_count": 2,
   "metadata": {
    "collapsed": false,
    "jupyter": {
     "outputs_hidden": false
    },
    "pycharm": {
     "name": "#%%\n"
    }
   },
   "outputs": [],
   "source": [
    "def read_results():\n",
    "    desc_map_files = []\n",
    "    for path in glob.glob('../'+config.results_dir + \"/*.csv\"):\n",
    "        csv = read_csv(path, encoding='latin-1')\n",
    "        csv = add_file_name(csv, path)\n",
    "        desc_map_files.append(csv)\n",
    "    results= pd.concat(desc_map_files, axis=0, ignore_index=True)\n",
    "    results.drop('target_app', inplace=True, axis=1)\n",
    "    results.drop('src_app', inplace=True, axis=1)\n",
    "    results.fillna(0, inplace=True)\n",
    "    return results"
   ]
  },
  {
   "cell_type": "code",
   "execution_count": 3,
   "metadata": {
    "collapsed": false,
    "jupyter": {
     "outputs_hidden": false
    },
    "pycharm": {
     "name": "#%%\n"
    }
   },
   "outputs": [],
   "source": [
    "def config_average_performance(results):\n",
    "    return results.groupby('config').mean().sort_values(by = ['accuracy'], ascending=False)"
   ]
  },
  {
   "cell_type": "code",
   "execution_count": 4,
   "metadata": {
    "collapsed": false,
    "jupyter": {
     "outputs_hidden": false
    },
    "pycharm": {
     "name": "#%%\n"
    }
   },
   "outputs": [],
   "source": [
    "results = read_results()\n",
    "agg_results = config_average_performance(results).sort_values(by = ['f1_score'], ascending=False)"
   ]
  },
  {
   "cell_type": "code",
   "execution_count": 5,
   "metadata": {},
   "outputs": [
    {
     "data": {
      "text/plain": "                                             tp        tn        fp        fn  \\\nconfig                                                                          \nwm_googleplay_craftdroid_intersection  2.064516  0.870968  1.451613  1.225806   \njaccard_empty_craftdroid_atm           2.080645  0.870968  1.580645  1.209677   \njaccard_empty_custom_atm               2.049180  0.885246  1.606557  1.245902   \nwm_blogs_craftdroid_intersection       1.950820  0.885246  1.622951  1.344262   \nuse_standard_craftdroid_craftdroid     2.000000  0.870968  1.741935  1.290323   \n...                                         ...       ...       ...       ...   \nw2v_blogs_atm_union                    1.639344  0.885246  1.967213  1.655738   \nfast_googleplay_atm_union              1.629032  0.870968  2.048387  1.661290   \nwm_googleplay_atm_union                1.590164  0.885246  1.983607  1.704918   \nbert_standard_atm_union                1.645161  0.870968  2.000000  1.645161   \nglove_android_custom_craftdroid        1.548387  0.870968  2.096774  1.741935   \n\n                                         effort  accuracy  precision  \\\nconfig                                                                 \nwm_googleplay_craftdroid_intersection  2.145161  0.610785   0.583295   \njaccard_empty_craftdroid_atm           2.161290  0.606776   0.580876   \njaccard_empty_custom_atm               2.163934  0.588526   0.567116   \nwm_blogs_craftdroid_intersection       2.278689  0.591568   0.551483   \nuse_standard_craftdroid_craftdroid     2.274194  0.585999   0.547632   \n...                                         ...       ...        ...   \nw2v_blogs_atm_union                    2.655738  0.504202   0.473992   \nfast_googleplay_atm_union              2.693548  0.499317   0.465047   \nwm_googleplay_atm_union                2.688525  0.499536   0.464065   \nbert_standard_atm_union                2.629032  0.496193   0.448874   \nglove_android_custom_craftdroid        2.774194  0.454028   0.427970   \n\n                                         recall  f1_score  reduction  \nconfig                                                                \nwm_googleplay_craftdroid_intersection  0.618548  0.591094   0.537903  \njaccard_empty_craftdroid_atm           0.615591  0.588447   0.523925  \njaccard_empty_custom_atm               0.599727  0.571574   0.512933  \nwm_blogs_craftdroid_intersection       0.594536  0.567241   0.515027  \nuse_standard_craftdroid_craftdroid     0.596774  0.565956   0.506720  \n...                                         ...       ...        ...  \nw2v_blogs_atm_union                    0.493989  0.473095   0.406922  \nfast_googleplay_atm_union              0.491398  0.468162   0.396237  \nwm_googleplay_atm_union                0.492077  0.468159   0.404098  \nbert_standard_atm_union                0.491935  0.463862   0.411290  \nglove_android_custom_craftdroid        0.471237  0.436670   0.359767  \n\n[64 rows x 10 columns]",
      "text/html": "<div>\n<style scoped>\n    .dataframe tbody tr th:only-of-type {\n        vertical-align: middle;\n    }\n\n    .dataframe tbody tr th {\n        vertical-align: top;\n    }\n\n    .dataframe thead th {\n        text-align: right;\n    }\n</style>\n<table border=\"1\" class=\"dataframe\">\n  <thead>\n    <tr style=\"text-align: right;\">\n      <th></th>\n      <th>tp</th>\n      <th>tn</th>\n      <th>fp</th>\n      <th>fn</th>\n      <th>effort</th>\n      <th>accuracy</th>\n      <th>precision</th>\n      <th>recall</th>\n      <th>f1_score</th>\n      <th>reduction</th>\n    </tr>\n    <tr>\n      <th>config</th>\n      <th></th>\n      <th></th>\n      <th></th>\n      <th></th>\n      <th></th>\n      <th></th>\n      <th></th>\n      <th></th>\n      <th></th>\n      <th></th>\n    </tr>\n  </thead>\n  <tbody>\n    <tr>\n      <th>wm_googleplay_craftdroid_intersection</th>\n      <td>2.064516</td>\n      <td>0.870968</td>\n      <td>1.451613</td>\n      <td>1.225806</td>\n      <td>2.145161</td>\n      <td>0.610785</td>\n      <td>0.583295</td>\n      <td>0.618548</td>\n      <td>0.591094</td>\n      <td>0.537903</td>\n    </tr>\n    <tr>\n      <th>jaccard_empty_craftdroid_atm</th>\n      <td>2.080645</td>\n      <td>0.870968</td>\n      <td>1.580645</td>\n      <td>1.209677</td>\n      <td>2.161290</td>\n      <td>0.606776</td>\n      <td>0.580876</td>\n      <td>0.615591</td>\n      <td>0.588447</td>\n      <td>0.523925</td>\n    </tr>\n    <tr>\n      <th>jaccard_empty_custom_atm</th>\n      <td>2.049180</td>\n      <td>0.885246</td>\n      <td>1.606557</td>\n      <td>1.245902</td>\n      <td>2.163934</td>\n      <td>0.588526</td>\n      <td>0.567116</td>\n      <td>0.599727</td>\n      <td>0.571574</td>\n      <td>0.512933</td>\n    </tr>\n    <tr>\n      <th>wm_blogs_craftdroid_intersection</th>\n      <td>1.950820</td>\n      <td>0.885246</td>\n      <td>1.622951</td>\n      <td>1.344262</td>\n      <td>2.278689</td>\n      <td>0.591568</td>\n      <td>0.551483</td>\n      <td>0.594536</td>\n      <td>0.567241</td>\n      <td>0.515027</td>\n    </tr>\n    <tr>\n      <th>use_standard_craftdroid_craftdroid</th>\n      <td>2.000000</td>\n      <td>0.870968</td>\n      <td>1.741935</td>\n      <td>1.290323</td>\n      <td>2.274194</td>\n      <td>0.585999</td>\n      <td>0.547632</td>\n      <td>0.596774</td>\n      <td>0.565956</td>\n      <td>0.506720</td>\n    </tr>\n    <tr>\n      <th>...</th>\n      <td>...</td>\n      <td>...</td>\n      <td>...</td>\n      <td>...</td>\n      <td>...</td>\n      <td>...</td>\n      <td>...</td>\n      <td>...</td>\n      <td>...</td>\n      <td>...</td>\n    </tr>\n    <tr>\n      <th>w2v_blogs_atm_union</th>\n      <td>1.639344</td>\n      <td>0.885246</td>\n      <td>1.967213</td>\n      <td>1.655738</td>\n      <td>2.655738</td>\n      <td>0.504202</td>\n      <td>0.473992</td>\n      <td>0.493989</td>\n      <td>0.473095</td>\n      <td>0.406922</td>\n    </tr>\n    <tr>\n      <th>fast_googleplay_atm_union</th>\n      <td>1.629032</td>\n      <td>0.870968</td>\n      <td>2.048387</td>\n      <td>1.661290</td>\n      <td>2.693548</td>\n      <td>0.499317</td>\n      <td>0.465047</td>\n      <td>0.491398</td>\n      <td>0.468162</td>\n      <td>0.396237</td>\n    </tr>\n    <tr>\n      <th>wm_googleplay_atm_union</th>\n      <td>1.590164</td>\n      <td>0.885246</td>\n      <td>1.983607</td>\n      <td>1.704918</td>\n      <td>2.688525</td>\n      <td>0.499536</td>\n      <td>0.464065</td>\n      <td>0.492077</td>\n      <td>0.468159</td>\n      <td>0.404098</td>\n    </tr>\n    <tr>\n      <th>bert_standard_atm_union</th>\n      <td>1.645161</td>\n      <td>0.870968</td>\n      <td>2.000000</td>\n      <td>1.645161</td>\n      <td>2.629032</td>\n      <td>0.496193</td>\n      <td>0.448874</td>\n      <td>0.491935</td>\n      <td>0.463862</td>\n      <td>0.411290</td>\n    </tr>\n    <tr>\n      <th>glove_android_custom_craftdroid</th>\n      <td>1.548387</td>\n      <td>0.870968</td>\n      <td>2.096774</td>\n      <td>1.741935</td>\n      <td>2.774194</td>\n      <td>0.454028</td>\n      <td>0.427970</td>\n      <td>0.471237</td>\n      <td>0.436670</td>\n      <td>0.359767</td>\n    </tr>\n  </tbody>\n</table>\n<p>64 rows × 10 columns</p>\n</div>"
     },
     "execution_count": 5,
     "metadata": {},
     "output_type": "execute_result"
    }
   ],
   "source": [
    "# config_stat = read_csv('../'+config.analyse_dir + '/configs_status.csv')\n",
    "# config_stat.set_index('config', inplace=True)\n",
    "# final_result = config_stat.join(agg_results)\n",
    "final_result = agg_results\n",
    "final_result"
   ]
  },
  {
   "cell_type": "code",
   "execution_count": 6,
   "outputs": [],
   "source": [
    "configs_mrr = read_csv('../' + config.analyse_dir + '/mrr.csv')\n",
    "configs_mrr['config'] = configs_mrr[['word_embedding', 'training_set', 'algorithm','descriptors']].agg('_'.join, axis=1)\n",
    "configs_mrr.drop(columns=['descriptors','word_embedding', 'training_set', 'algorithm'], inplace=True)\n",
    "configs_mrr.set_index('config', inplace=True)\n",
    "final_result = final_result.join(configs_mrr).sort_values(by = ['f1_score'], ascending=False)\n",
    "# configs_mrr.loc[configs_mrr['config'] == 'glove_android_atm_union']\n",
    "final_result.to_csv('../' + config.analyse_dir + '/final_results.csv')"
   ],
   "metadata": {
    "collapsed": false,
    "pycharm": {
     "name": "#%%\n"
    }
   }
  }
 ],
 "metadata": {
  "kernelspec": {
   "display_name": "Python 3",
   "language": "python",
   "name": "python3"
  },
  "language_info": {
   "codemirror_mode": {
    "name": "ipython",
    "version": 3
   },
   "file_extension": ".py",
   "mimetype": "text/x-python",
   "name": "python",
   "nbconvert_exporter": "python",
   "pygments_lexer": "ipython3",
   "version": "3.7.3"
  }
 },
 "nbformat": 4,
 "nbformat_minor": 4
}