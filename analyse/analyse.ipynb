{
 "cells": [
  {
   "cell_type": "code",
   "execution_count": 1,
   "metadata": {},
   "outputs": [],
   "source": [
    "import glob\n",
    "import os\n",
    "import sys\n",
    "sys.path.append(\"..\")\n",
    "import pandas as pd\n",
    "from pandas.io.parsers import read_csv\n",
    "\n",
    "from utils.configuration import Configuration\n",
    "\n",
    "config = Configuration()\n",
    "def add_file_name(csv, path):\n",
    "    file_name = os.path.basename(path).split('.')[0]\n",
    "    csv['config'] = file_name.split('result_')[1]\n",
    "    return csv"
   ]
  },
  {
   "cell_type": "code",
   "execution_count": 2,
   "metadata": {
    "collapsed": false,
    "jupyter": {
     "outputs_hidden": false
    },
    "pycharm": {
     "name": "#%%\n"
    }
   },
   "outputs": [],
   "source": [
    "def read_results():\n",
    "    desc_map_files = []\n",
    "    for path in glob.glob('../'+config.results_dir + \"/*.csv\"):\n",
    "        csv = read_csv(path, encoding='latin-1')\n",
    "        csv = add_file_name(csv, path)\n",
    "        desc_map_files.append(csv)\n",
    "    results= pd.concat(desc_map_files, axis=0, ignore_index=True)\n",
    "    results.drop('target_app', inplace=True, axis=1)\n",
    "    results.drop('src_app', inplace=True, axis=1)\n",
    "    results.fillna(0, inplace=True)\n",
    "    return results"
   ]
  },
  {
   "cell_type": "code",
   "execution_count": 3,
   "metadata": {
    "collapsed": false,
    "jupyter": {
     "outputs_hidden": false
    },
    "pycharm": {
     "name": "#%%\n"
    }
   },
   "outputs": [],
   "source": [
    "def config_average_performance(results):\n",
    "    return results.groupby('config').mean().sort_values(by = ['accuracy'], ascending=False)"
   ]
  },
  {
   "cell_type": "code",
   "execution_count": 4,
   "metadata": {
    "collapsed": false,
    "jupyter": {
     "outputs_hidden": false
    },
    "pycharm": {
     "name": "#%%\n"
    }
   },
   "outputs": [],
   "source": [
    "results = read_results()\n",
    "agg_results = config_average_performance(results).sort_values(by = ['f1_score'], ascending=False)"
   ]
  },
  {
   "cell_type": "code",
   "execution_count": 5,
   "metadata": {},
   "outputs": [
    {
     "data": {
      "text/plain": "                                             tp        tn        fp        fn  \\\nconfig                                                                          \nwm_googleplay_craftdroid_intersection  2.419355  0.548387  1.354839  1.193548   \njaccard_empty_craftdroid_atm           2.435484  0.548387  1.483871  1.177419   \njaccard_empty_custom_intersection      2.387097  0.548387  1.483871  1.225806   \nwm_googleplay_craftdroid_atm           2.403226  0.548387  1.451613  1.209677   \njaccard_empty_craftdroid_intersection  2.419355  0.548387  1.532258  1.193548   \n...                                         ...       ...       ...       ...   \nglove_standard_custom_union            1.532258  0.548387  2.032258  2.080645   \nw2v_blogs_custom_craftdroid            1.508197  0.557377  1.967213  2.114754   \nglove_blogs_custom_craftdroid          1.540984  0.557377  2.098361  2.081967   \nw2v_android_custom_craftdroid          1.500000  0.548387  2.080645  2.112903   \nw2v_android_custom_union               1.483871  0.548387  2.145161  2.129032   \n\n                                         effort  accuracy  precision  \\\nconfig                                                                 \nwm_googleplay_craftdroid_intersection  2.048387  0.632291   0.654263   \njaccard_empty_craftdroid_atm           2.064516  0.628281   0.651843   \njaccard_empty_custom_intersection      2.048387  0.630554   0.651997   \nwm_googleplay_craftdroid_atm           2.112903  0.628320   0.648349   \njaccard_empty_craftdroid_intersection  2.080645  0.621830   0.646467   \n...                                         ...       ...        ...   \nglove_standard_custom_union            2.983871  0.401211   0.420020   \nw2v_blogs_custom_craftdroid            2.950820  0.398584   0.414338   \nglove_blogs_custom_craftdroid          3.000000  0.389036   0.408873   \nw2v_android_custom_craftdroid          3.048387  0.381109   0.402970   \nw2v_android_custom_union               3.064516  0.378145   0.393292   \n\n                                         recall  f1_score  reduction  \nconfig                                                                \nwm_googleplay_craftdroid_intersection  0.689516  0.662062   0.557258  \njaccard_empty_craftdroid_atm           0.686559  0.659414   0.543280  \njaccard_empty_custom_intersection      0.682527  0.657953   0.550000  \nwm_googleplay_craftdroid_atm           0.685484  0.656942   0.539785  \njaccard_empty_craftdroid_intersection  0.681183  0.654038   0.537903  \n...                                         ...       ...        ...  \nglove_standard_custom_union            0.444086  0.420543   0.305197  \nw2v_blogs_custom_craftdroid            0.433060  0.412981   0.309654  \nglove_blogs_custom_craftdroid          0.435519  0.410745   0.293807  \nw2v_android_custom_craftdroid          0.427957  0.403800   0.281810  \nw2v_android_custom_union               0.426613  0.401957   0.282616  \n\n[247 rows x 10 columns]",
      "text/html": "<div>\n<style scoped>\n    .dataframe tbody tr th:only-of-type {\n        vertical-align: middle;\n    }\n\n    .dataframe tbody tr th {\n        vertical-align: top;\n    }\n\n    .dataframe thead th {\n        text-align: right;\n    }\n</style>\n<table border=\"1\" class=\"dataframe\">\n  <thead>\n    <tr style=\"text-align: right;\">\n      <th></th>\n      <th>tp</th>\n      <th>tn</th>\n      <th>fp</th>\n      <th>fn</th>\n      <th>effort</th>\n      <th>accuracy</th>\n      <th>precision</th>\n      <th>recall</th>\n      <th>f1_score</th>\n      <th>reduction</th>\n    </tr>\n    <tr>\n      <th>config</th>\n      <th></th>\n      <th></th>\n      <th></th>\n      <th></th>\n      <th></th>\n      <th></th>\n      <th></th>\n      <th></th>\n      <th></th>\n      <th></th>\n    </tr>\n  </thead>\n  <tbody>\n    <tr>\n      <th>wm_googleplay_craftdroid_intersection</th>\n      <td>2.419355</td>\n      <td>0.548387</td>\n      <td>1.354839</td>\n      <td>1.193548</td>\n      <td>2.048387</td>\n      <td>0.632291</td>\n      <td>0.654263</td>\n      <td>0.689516</td>\n      <td>0.662062</td>\n      <td>0.557258</td>\n    </tr>\n    <tr>\n      <th>jaccard_empty_craftdroid_atm</th>\n      <td>2.435484</td>\n      <td>0.548387</td>\n      <td>1.483871</td>\n      <td>1.177419</td>\n      <td>2.064516</td>\n      <td>0.628281</td>\n      <td>0.651843</td>\n      <td>0.686559</td>\n      <td>0.659414</td>\n      <td>0.543280</td>\n    </tr>\n    <tr>\n      <th>jaccard_empty_custom_intersection</th>\n      <td>2.387097</td>\n      <td>0.548387</td>\n      <td>1.483871</td>\n      <td>1.225806</td>\n      <td>2.048387</td>\n      <td>0.630554</td>\n      <td>0.651997</td>\n      <td>0.682527</td>\n      <td>0.657953</td>\n      <td>0.550000</td>\n    </tr>\n    <tr>\n      <th>wm_googleplay_craftdroid_atm</th>\n      <td>2.403226</td>\n      <td>0.548387</td>\n      <td>1.451613</td>\n      <td>1.209677</td>\n      <td>2.112903</td>\n      <td>0.628320</td>\n      <td>0.648349</td>\n      <td>0.685484</td>\n      <td>0.656942</td>\n      <td>0.539785</td>\n    </tr>\n    <tr>\n      <th>jaccard_empty_craftdroid_intersection</th>\n      <td>2.419355</td>\n      <td>0.548387</td>\n      <td>1.532258</td>\n      <td>1.193548</td>\n      <td>2.080645</td>\n      <td>0.621830</td>\n      <td>0.646467</td>\n      <td>0.681183</td>\n      <td>0.654038</td>\n      <td>0.537903</td>\n    </tr>\n    <tr>\n      <th>...</th>\n      <td>...</td>\n      <td>...</td>\n      <td>...</td>\n      <td>...</td>\n      <td>...</td>\n      <td>...</td>\n      <td>...</td>\n      <td>...</td>\n      <td>...</td>\n      <td>...</td>\n    </tr>\n    <tr>\n      <th>glove_standard_custom_union</th>\n      <td>1.532258</td>\n      <td>0.548387</td>\n      <td>2.032258</td>\n      <td>2.080645</td>\n      <td>2.983871</td>\n      <td>0.401211</td>\n      <td>0.420020</td>\n      <td>0.444086</td>\n      <td>0.420543</td>\n      <td>0.305197</td>\n    </tr>\n    <tr>\n      <th>w2v_blogs_custom_craftdroid</th>\n      <td>1.508197</td>\n      <td>0.557377</td>\n      <td>1.967213</td>\n      <td>2.114754</td>\n      <td>2.950820</td>\n      <td>0.398584</td>\n      <td>0.414338</td>\n      <td>0.433060</td>\n      <td>0.412981</td>\n      <td>0.309654</td>\n    </tr>\n    <tr>\n      <th>glove_blogs_custom_craftdroid</th>\n      <td>1.540984</td>\n      <td>0.557377</td>\n      <td>2.098361</td>\n      <td>2.081967</td>\n      <td>3.000000</td>\n      <td>0.389036</td>\n      <td>0.408873</td>\n      <td>0.435519</td>\n      <td>0.410745</td>\n      <td>0.293807</td>\n    </tr>\n    <tr>\n      <th>w2v_android_custom_craftdroid</th>\n      <td>1.500000</td>\n      <td>0.548387</td>\n      <td>2.080645</td>\n      <td>2.112903</td>\n      <td>3.048387</td>\n      <td>0.381109</td>\n      <td>0.402970</td>\n      <td>0.427957</td>\n      <td>0.403800</td>\n      <td>0.281810</td>\n    </tr>\n    <tr>\n      <th>w2v_android_custom_union</th>\n      <td>1.483871</td>\n      <td>0.548387</td>\n      <td>2.145161</td>\n      <td>2.129032</td>\n      <td>3.064516</td>\n      <td>0.378145</td>\n      <td>0.393292</td>\n      <td>0.426613</td>\n      <td>0.401957</td>\n      <td>0.282616</td>\n    </tr>\n  </tbody>\n</table>\n<p>247 rows × 10 columns</p>\n</div>"
     },
     "execution_count": 5,
     "metadata": {},
     "output_type": "execute_result"
    }
   ],
   "source": [
    "# config_stat = read_csv('../'+config.analyse_dir + '/configs_status.csv')\n",
    "# config_stat.set_index('config', inplace=True)\n",
    "# final_result = config_stat.join(agg_results)\n",
    "final_result = agg_results\n",
    "final_result"
   ]
  },
  {
   "cell_type": "code",
   "execution_count": 6,
   "outputs": [],
   "source": [
    "configs_mrr = read_csv('../' + config.analyse_dir + '/mrr.csv')\n",
    "configs_mrr['config'] = configs_mrr[['word_embedding', 'training_set', 'algorithm','descriptors']].agg('_'.join, axis=1)\n",
    "configs_mrr.drop(columns=['descriptors','word_embedding', 'training_set', 'algorithm'], inplace=True)\n",
    "configs_mrr.set_index('config', inplace=True)\n",
    "final_result = final_result.join(configs_mrr).sort_values(by = ['f1_score'], ascending=False)\n",
    "# configs_mrr.loc[configs_mrr['config'] == 'glove_android_atm_union']\n",
    "final_result.to_csv('../' + config.analyse_dir + '/final_results.csv')"
   ],
   "metadata": {
    "collapsed": false,
    "pycharm": {
     "name": "#%%\n"
    }
   }
  }
 ],
 "metadata": {
  "kernelspec": {
   "display_name": "Python 3",
   "language": "python",
   "name": "python3"
  },
  "language_info": {
   "codemirror_mode": {
    "name": "ipython",
    "version": 3
   },
   "file_extension": ".py",
   "mimetype": "text/x-python",
   "name": "python",
   "nbconvert_exporter": "python",
   "pygments_lexer": "ipython3",
   "version": "3.7.3"
  }
 },
 "nbformat": 4,
 "nbformat_minor": 4
}