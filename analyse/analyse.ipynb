{
 "cells": [
  {
   "cell_type": "code",
   "execution_count": 5,
   "metadata": {},
   "outputs": [],
   "source": [
    "import glob\n",
    "import os\n",
    "import sys\n",
    "sys.path.append(\"..\")\n",
    "import pandas as pd\n",
    "from pandas.io.parsers import read_csv\n",
    "\n",
    "from utils.configuration import Configuration\n",
    "\n",
    "config = Configuration()\n",
    "def add_file_name(csv, path):\n",
    "    file_name = os.path.basename(path).split('.')[0]\n",
    "    csv['config'] = file_name.split('result_')[1]\n",
    "    return csv"
   ]
  },
  {
   "cell_type": "code",
   "execution_count": 7,
   "metadata": {
    "collapsed": false,
    "jupyter": {
     "outputs_hidden": false
    },
    "pycharm": {
     "name": "#%%\n"
    }
   },
   "outputs": [],
   "source": [
    "def read_results():\n",
    "    desc_map_files = []\n",
    "    for path in glob.glob('../'+config.results_dir + \"/*.csv\"):\n",
    "        csv = read_csv(path, encoding='latin-1')\n",
    "        csv = add_file_name(csv, path)\n",
    "        desc_map_files.append(csv)\n",
    "    results= pd.concat(desc_map_files, axis=0, ignore_index=True)\n",
    "    results.drop('target_app', inplace=True, axis=1)\n",
    "    results.drop('src_app', inplace=True, axis=1)\n",
    "    results.fillna(0, inplace=True)\n",
    "    return results"
   ]
  },
  {
   "cell_type": "code",
   "execution_count": 8,
   "metadata": {
    "collapsed": false,
    "jupyter": {
     "outputs_hidden": false
    },
    "pycharm": {
     "name": "#%%\n"
    }
   },
   "outputs": [],
   "source": [
    "def config_average_performance(results):\n",
    "    return results.groupby('config').mean().sort_values(by = ['accuracy'], ascending=False)"
   ]
  },
  {
   "cell_type": "code",
   "execution_count": 9,
   "metadata": {
    "collapsed": false,
    "jupyter": {
     "outputs_hidden": false
    },
    "pycharm": {
     "name": "#%%\n"
    }
   },
   "outputs": [],
   "source": [
    "results = read_results()\n",
    "agg_results = config_average_performance(results).sort_values(by = ['f1_score'], ascending=False)"
   ]
  },
  {
   "cell_type": "code",
   "execution_count": 15,
   "metadata": {},
   "outputs": [
    {
     "data": {
      "text/plain": "                                             tp        tn        fp        fn  \\\nconfig                                                                          \nwm_googleplay_craftdroid_intersection  1.650000  0.833333  2.133333  1.416667   \njaccard_empty_craftdroid_atm           1.666667  0.833333  2.266667  1.400000   \nwm_blogs_craftdroid_intersection       1.610169  0.847458  2.254237  1.457627   \nuse_standard_craftdroid_craftdroid     1.583333  0.833333  2.316667  1.483333   \nuse_standard_craftdroid_union          1.583333  0.833333  2.366667  1.483333   \n...                                         ...       ...       ...       ...   \nw2v_blogs_atm_union                    1.237288  0.847458  2.661017  1.830508   \nfast_googleplay_atm_union              1.233333  0.833333  2.700000  1.833333   \nbert_standard_atm_union                1.250000  0.833333  2.583333  1.816667   \nglove_android_atm_atm                  1.263158  0.877193  2.719298  1.807018   \nglove_android_custom_craftdroid        1.200000  0.833333  2.783333  1.866667   \n\n                                         effort  accuracy  precision  \\\nconfig                                                                 \nwm_googleplay_craftdroid_intersection  2.683333  0.463784   0.441627   \njaccard_empty_craftdroid_atm           2.700000  0.459641   0.439127   \nwm_blogs_craftdroid_intersection       2.779661  0.450523   0.428773   \nuse_standard_craftdroid_craftdroid     2.816667  0.439224   0.416627   \nuse_standard_craftdroid_union          2.866667  0.438840   0.416627   \n...                                         ...       ...        ...   \nw2v_blogs_atm_union                    3.220339  0.353618   0.324899   \nfast_googleplay_atm_union              3.233333  0.352535   0.323466   \nbert_standard_atm_union                3.150000  0.352245   0.321243   \nglove_android_atm_atm                  3.263158  0.350483   0.315302   \nglove_android_custom_craftdroid        3.316667  0.332244   0.307077   \n\n                                         recall  f1_score  reduction  \nconfig                                                                \nwm_googleplay_craftdroid_intersection  0.483333  0.456723   0.355278  \njaccard_empty_craftdroid_atm           0.480278  0.453987   0.340833  \nwm_blogs_craftdroid_intersection       0.470339  0.443749   0.336723  \nuse_standard_craftdroid_craftdroid     0.459444  0.432228   0.322222  \nuse_standard_craftdroid_union          0.459444  0.432228   0.312222  \n...                                         ...       ...        ...  \nw2v_blogs_atm_union                    0.359322  0.336496   0.220056  \nfast_googleplay_atm_union              0.358889  0.334825   0.213056  \nbert_standard_atm_union                0.359444  0.334139   0.231944  \nglove_android_atm_atm                  0.359357  0.329937   0.204094  \nglove_android_custom_craftdroid        0.346389  0.320791   0.177222  \n\n[64 rows x 10 columns]",
      "text/html": "<div>\n<style scoped>\n    .dataframe tbody tr th:only-of-type {\n        vertical-align: middle;\n    }\n\n    .dataframe tbody tr th {\n        vertical-align: top;\n    }\n\n    .dataframe thead th {\n        text-align: right;\n    }\n</style>\n<table border=\"1\" class=\"dataframe\">\n  <thead>\n    <tr style=\"text-align: right;\">\n      <th></th>\n      <th>tp</th>\n      <th>tn</th>\n      <th>fp</th>\n      <th>fn</th>\n      <th>effort</th>\n      <th>accuracy</th>\n      <th>precision</th>\n      <th>recall</th>\n      <th>f1_score</th>\n      <th>reduction</th>\n    </tr>\n    <tr>\n      <th>config</th>\n      <th></th>\n      <th></th>\n      <th></th>\n      <th></th>\n      <th></th>\n      <th></th>\n      <th></th>\n      <th></th>\n      <th></th>\n      <th></th>\n    </tr>\n  </thead>\n  <tbody>\n    <tr>\n      <th>wm_googleplay_craftdroid_intersection</th>\n      <td>1.650000</td>\n      <td>0.833333</td>\n      <td>2.133333</td>\n      <td>1.416667</td>\n      <td>2.683333</td>\n      <td>0.463784</td>\n      <td>0.441627</td>\n      <td>0.483333</td>\n      <td>0.456723</td>\n      <td>0.355278</td>\n    </tr>\n    <tr>\n      <th>jaccard_empty_craftdroid_atm</th>\n      <td>1.666667</td>\n      <td>0.833333</td>\n      <td>2.266667</td>\n      <td>1.400000</td>\n      <td>2.700000</td>\n      <td>0.459641</td>\n      <td>0.439127</td>\n      <td>0.480278</td>\n      <td>0.453987</td>\n      <td>0.340833</td>\n    </tr>\n    <tr>\n      <th>wm_blogs_craftdroid_intersection</th>\n      <td>1.610169</td>\n      <td>0.847458</td>\n      <td>2.254237</td>\n      <td>1.457627</td>\n      <td>2.779661</td>\n      <td>0.450523</td>\n      <td>0.428773</td>\n      <td>0.470339</td>\n      <td>0.443749</td>\n      <td>0.336723</td>\n    </tr>\n    <tr>\n      <th>use_standard_craftdroid_craftdroid</th>\n      <td>1.583333</td>\n      <td>0.833333</td>\n      <td>2.316667</td>\n      <td>1.483333</td>\n      <td>2.816667</td>\n      <td>0.439224</td>\n      <td>0.416627</td>\n      <td>0.459444</td>\n      <td>0.432228</td>\n      <td>0.322222</td>\n    </tr>\n    <tr>\n      <th>use_standard_craftdroid_union</th>\n      <td>1.583333</td>\n      <td>0.833333</td>\n      <td>2.366667</td>\n      <td>1.483333</td>\n      <td>2.866667</td>\n      <td>0.438840</td>\n      <td>0.416627</td>\n      <td>0.459444</td>\n      <td>0.432228</td>\n      <td>0.312222</td>\n    </tr>\n    <tr>\n      <th>...</th>\n      <td>...</td>\n      <td>...</td>\n      <td>...</td>\n      <td>...</td>\n      <td>...</td>\n      <td>...</td>\n      <td>...</td>\n      <td>...</td>\n      <td>...</td>\n      <td>...</td>\n    </tr>\n    <tr>\n      <th>w2v_blogs_atm_union</th>\n      <td>1.237288</td>\n      <td>0.847458</td>\n      <td>2.661017</td>\n      <td>1.830508</td>\n      <td>3.220339</td>\n      <td>0.353618</td>\n      <td>0.324899</td>\n      <td>0.359322</td>\n      <td>0.336496</td>\n      <td>0.220056</td>\n    </tr>\n    <tr>\n      <th>fast_googleplay_atm_union</th>\n      <td>1.233333</td>\n      <td>0.833333</td>\n      <td>2.700000</td>\n      <td>1.833333</td>\n      <td>3.233333</td>\n      <td>0.352535</td>\n      <td>0.323466</td>\n      <td>0.358889</td>\n      <td>0.334825</td>\n      <td>0.213056</td>\n    </tr>\n    <tr>\n      <th>bert_standard_atm_union</th>\n      <td>1.250000</td>\n      <td>0.833333</td>\n      <td>2.583333</td>\n      <td>1.816667</td>\n      <td>3.150000</td>\n      <td>0.352245</td>\n      <td>0.321243</td>\n      <td>0.359444</td>\n      <td>0.334139</td>\n      <td>0.231944</td>\n    </tr>\n    <tr>\n      <th>glove_android_atm_atm</th>\n      <td>1.263158</td>\n      <td>0.877193</td>\n      <td>2.719298</td>\n      <td>1.807018</td>\n      <td>3.263158</td>\n      <td>0.350483</td>\n      <td>0.315302</td>\n      <td>0.359357</td>\n      <td>0.329937</td>\n      <td>0.204094</td>\n    </tr>\n    <tr>\n      <th>glove_android_custom_craftdroid</th>\n      <td>1.200000</td>\n      <td>0.833333</td>\n      <td>2.783333</td>\n      <td>1.866667</td>\n      <td>3.316667</td>\n      <td>0.332244</td>\n      <td>0.307077</td>\n      <td>0.346389</td>\n      <td>0.320791</td>\n      <td>0.177222</td>\n    </tr>\n  </tbody>\n</table>\n<p>64 rows × 10 columns</p>\n</div>"
     },
     "execution_count": 15,
     "metadata": {},
     "output_type": "execute_result"
    }
   ],
   "source": [
    "# config_stat = read_csv('../'+config.analyse_dir + '/configs_status.csv')\n",
    "# config_stat.set_index('config', inplace=True)\n",
    "# final_result = config_stat.join(agg_results)\n",
    "final_result = agg_results\n",
    "final_result"
   ]
  },
  {
   "cell_type": "code",
   "execution_count": 16,
   "outputs": [],
   "source": [
    "configs_mrr = read_csv('../' + config.analyse_dir + '/mrr.csv')\n",
    "configs_mrr['config'] = configs_mrr[['word_embedding', 'training_set', 'algorithm','descriptors']].agg('_'.join, axis=1)\n",
    "configs_mrr.drop(columns=['descriptors','word_embedding', 'training_set', 'algorithm'], inplace=True)\n",
    "configs_mrr.set_index('config', inplace=True)\n",
    "final_result = final_result.join(configs_mrr).sort_values(by = ['f1_score'], ascending=False)\n",
    "# configs_mrr.loc[configs_mrr['config'] == 'glove_android_atm_union']\n",
    "final_result.to_csv('../' + config.analyse_dir + '/final_results.csv')"
   ],
   "metadata": {
    "collapsed": false,
    "pycharm": {
     "name": "#%%\n"
    }
   }
  }
 ],
 "metadata": {
  "kernelspec": {
   "display_name": "Python 3",
   "language": "python",
   "name": "python3"
  },
  "language_info": {
   "codemirror_mode": {
    "name": "ipython",
    "version": 3
   },
   "file_extension": ".py",
   "mimetype": "text/x-python",
   "name": "python",
   "nbconvert_exporter": "python",
   "pygments_lexer": "ipython3",
   "version": "3.7.3"
  }
 },
 "nbformat": 4,
 "nbformat_minor": 4
}