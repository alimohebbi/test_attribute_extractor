{
 "cells": [
  {
   "cell_type": "code",
   "execution_count": 5,
   "metadata": {},
   "outputs": [],
   "source": [
    "import glob\n",
    "import os\n",
    "import sys\n",
    "sys.path.append(\"..\")\n",
    "import pandas as pd\n",
    "from pandas.io.parsers import read_csv\n",
    "\n",
    "from utils.configuration import Configuration\n",
    "\n",
    "config = Configuration()\n",
    "def add_file_name(csv, path):\n",
    "    file_name = os.path.basename(path).split('.')[0]\n",
    "    csv['config'] = file_name.split('result_')[1]\n",
    "    return csv"
   ]
  },
  {
   "cell_type": "code",
   "execution_count": 6,
   "metadata": {
    "collapsed": false,
    "jupyter": {
     "outputs_hidden": false
    },
    "pycharm": {
     "name": "#%%\n"
    }
   },
   "outputs": [],
   "source": [
    "def read_results():\n",
    "    desc_map_files = []\n",
    "    for path in glob.glob('../'+config.results_dir + \"/*.csv\"):\n",
    "        csv = read_csv(path, encoding='latin-1')\n",
    "        csv = add_file_name(csv, path)\n",
    "        desc_map_files.append(csv)\n",
    "    results= pd.concat(desc_map_files, axis=0, ignore_index=True)\n",
    "    results.drop('target_app', inplace=True, axis=1)\n",
    "    results.drop('src_app', inplace=True, axis=1)\n",
    "    results.fillna(0, inplace=True)\n",
    "    return results"
   ]
  },
  {
   "cell_type": "code",
   "execution_count": 7,
   "metadata": {
    "collapsed": false,
    "jupyter": {
     "outputs_hidden": false
    },
    "pycharm": {
     "name": "#%%\n"
    }
   },
   "outputs": [],
   "source": [
    "def config_average_performance(results):\n",
    "    return results.groupby('config').mean().sort_values(by = ['accuracy'], ascending=False)"
   ]
  },
  {
   "cell_type": "code",
   "execution_count": 12,
   "metadata": {
    "collapsed": false,
    "jupyter": {
     "outputs_hidden": false
    },
    "pycharm": {
     "name": "#%%\n"
    }
   },
   "outputs": [],
   "source": [
    "results = read_results()\n",
    "config_average_performance(results)"
   ]
  },
  {
   "cell_type": "code",
   "execution_count": 14,
   "metadata": {},
   "outputs": [],
   "source": []
  }
 ],
 "metadata": {
  "kernelspec": {
   "display_name": "Python 3",
   "language": "python",
   "name": "python3"
  },
  "language_info": {
   "codemirror_mode": {
    "name": "ipython",
    "version": 3
   },
   "file_extension": ".py",
   "mimetype": "text/x-python",
   "name": "python",
   "nbconvert_exporter": "python",
   "pygments_lexer": "ipython3",
   "version": "3.7.3"
  }
 },
 "nbformat": 4,
 "nbformat_minor": 4
}